{
 "cells": [
  {
   "cell_type": "code",
   "execution_count": 1,
   "metadata": {},
   "outputs": [],
   "source": [
    "import os\n",
    "import dotenv\n",
    "from scholarly import scholarly\n",
    "from langchain_community.tools.google_scholar import GoogleScholarQueryRun\n",
    "from langchain_community.utilities.google_scholar import GoogleScholarAPIWrapper"
   ]
  },
  {
   "cell_type": "markdown",
   "metadata": {},
   "source": [
    "### SerpAPI"
   ]
  },
  {
   "cell_type": "code",
   "execution_count": 6,
   "metadata": {},
   "outputs": [
    {
     "data": {
      "text/plain": [
       "'Title: The hippocampus and behavior.\\nAuthors: \\nSummary: RJ Douglas - Psychological bulletin, 1967 - psycnet.apa.org\\nTotal-Citations: 1591\\n\\nTitle: What does the hippocampus really do?\\nAuthors: \\nSummary: LE Jarrard - Behavioural brain research, 1995 - Elsevier\\nTotal-Citations: 345\\n\\nTitle: The hippocampus book\\nAuthors: \\nSummary: P Andersen - 2007 - books.google.com\\nTotal-Citations: 1892\\n\\nTitle: The hippocampus\\nAuthors: JJ Knierim\\nSummary: JJ Knierim - Current Biology, 2015 - cell.com\\nTotal-Citations: 524\\n\\nTitle: Hormones and the hippocampus\\nAuthors: R Lathe\\nSummary: R Lathe - Journal of Endocrinology, 2001 - researchgate.net\\nTotal-Citations: 381\\n\\nTitle: Hippocampus, space, and memory\\nAuthors: JT Becker\\nSummary: DS Olton, JT Becker, GE Handelmann - Behavioral and Brain …, 1979 - cambridge.org\\nTotal-Citations: 2486\\n\\nTitle: Hippocampus\\nAuthors: \\nSummary: M Witter - The mouse nervous system, 2012 - Elsevier\\nTotal-Citations: 62\\n\\nTitle: Hippocampus, time, and memory.\\nAuthors: WH Meck\\nSummary: WH Meck, RM Church, DS Olton - Behavioral neuroscience, 1984 - psycnet.apa.org\\nTotal-Citations: 581\\n\\nTitle: The role of the hippocampus in prediction and imagination\\nAuthors: RL Buckner\\nSummary: RL Buckner - Annual review of psychology, 2010 - annualreviews.org\\nTotal-Citations: 458\\n\\nTitle: Laminating the hippocampus\\nAuthors: \\nSummary: E Förster, S Zhao, M Frotscher - Nature reviews neuroscience, 2006 - nature.com\\nTotal-Citations: 310'"
      ]
     },
     "execution_count": 6,
     "metadata": {},
     "output_type": "execute_result"
    }
   ],
   "source": [
    "# serp api\n",
    "dotenv_file = dotenv.find_dotenv(\"/home/sangbin_yun/dev/llm_agent/.env\")\n",
    "dotenv.load_dotenv(dotenv_file)\n",
    "# os.environ[\"SERP_API_KEY\"]\n",
    "tool = GoogleScholarQueryRun(api_wrapper=GoogleScholarAPIWrapper())\n",
    "tool.run(\"hippocampus\")"
   ]
  },
  {
   "cell_type": "markdown",
   "metadata": {},
   "source": [
    "### Scholary"
   ]
  },
  {
   "cell_type": "code",
   "execution_count": 38,
   "metadata": {},
   "outputs": [],
   "source": [
    "search_query = scholarly.search_pubs('\"conflict\" AND EEG')\n",
    "# search_query = scholarly.search_pubs('\"phase locking value\" AND EEG AND \"conflict\"')"
   ]
  },
  {
   "cell_type": "code",
   "execution_count": 23,
   "metadata": {},
   "outputs": [
    {
     "data": {
      "text/plain": [
       "594000"
      ]
     },
     "execution_count": 23,
     "metadata": {},
     "output_type": "execute_result"
    }
   ],
   "source": [
    "search_query.total_results"
   ]
  },
  {
   "cell_type": "code",
   "execution_count": 41,
   "metadata": {},
   "outputs": [
    {
     "name": "stdout",
     "output_type": "stream",
     "text": [
      "====================0====================\n",
      "continuously within a conflict trial itself. Using frequency tagged electroencephalogram in  a  We found evidence for a conflict-triggered within-trial contrast enhancement dissociating\n",
      "https://onlinelibrary.wiley.com/doi/abs/10.1111/j.1469-8986.2010.01137.x\n",
      "https://tu-dresden.de/mn/psychologie/ifap/allgpsy/ressourcen/dateien/mitarbeiter/rico_fischer/material_fischer/scherbaumfischerdshemuchadsegoschke2011.pdf\n",
      "====================1====================\n",
      "their attention to motivation-related aspects before conflict-related aspects. Next, following  learning  characteristics of EEG signals that differentially traced motivation-related and conflict-\n",
      "https://www.sciencedirect.com/science/article/pii/S1053811918321736\n",
      "https://www.ncbi.nlm.nih.gov/pmc/articles/PMC6401252/\n",
      "====================2====================\n",
      "Taken together, our results indicate that most of the conflict-related and behaviorally relevant  midfrontal EEG signal reflects a modulation of ongoing theta-band oscillations that occurs\n",
      "https://journals.physiology.org/doi/abs/10.1152/jn.00479.2013\n",
      "https://journals.physiology.org/doi/prev/20130925-aop/pdf/10.1152/jn.00479.2013\n",
      "====================3====================\n",
      "oscillations, during response conflict tasks. Here, we recorded intracranial EEG during a  modified  to near-perfect, and an ERP conflict effect was observed only following surgery. These\n",
      "https://www.sciencedirect.com/science/article/pii/S0006899308018726\n",
      "https://www.academia.edu/download/3458353/cohen_2008_brain_res.pdf\n",
      "====================4====================\n",
      "A comprehensive description of the results of the EEG and fMRI data analysis was presented  in our previous work (Beldzik et al., 2022). Here, we focus only on three conflict markers\n",
      "https://direct.mit.edu/imag/article/doi/10.1162/imag_a_00161/120742\n",
      "https://direct.mit.edu/imag/article-pdf/doi/10.1162/imag_a_00161/2370765/imag_a_00161.pdf\n",
      "====================5====================\n",
      "reflected in a larger conflict-related midfrontal theta-band power. These EEG effects were not   the emergence of conflict and conflict control, and this alerting-conflict interaction could not\n",
      "https://www.sciencedirect.com/science/article/pii/S0301051118307105\n",
      "https://ruj.uj.edu.pl/xmlui/bitstream/handle/item/77419/asanowicz_woloszyn_panek_wronka_on_the_locus_of_the_effect_of_alerting_on_response_conflict_2019.pdf?sequence=1&isAllowed=y\n",
      "====================6====================\n",
      "overlapping conflict in the Stroop task is yet unclear. In the present study, we analyzed EEG   to the detection of response conflict and semantic conflict in a lateralized version of the color\n",
      "https://onlinelibrary.wiley.com/doi/abs/10.1111/psyp.14195\n",
      "https://onlinelibrary.wiley.com/doi/pdf/10.1111/psyp.14195\n",
      "====================7====================\n",
      "Up to now, there have been few EEG studies that have utilized a food-related Stroop task to  investigate the effects of high-calorie foods on conflict control. To add to previous studies, the\n",
      "https://www.mdpi.com/2072-6643/14/21/4593\n",
      "https://www.mdpi.com/2072-6643/14/21/4593\n",
      "====================8====================\n",
      "conflict resolution automation and tactile user interface to be the inputs of the future ATC  system. We propose an Electroencephalogram (EEG)- The EEG-based tools are used to monitor\n",
      "https://link.springer.com/chapter/10.1007/978-3-319-41682-3_73\n",
      "https://www.fraunhofer.sg/content/dam/singapur/documents/Publications/20170101%20EEG-Based%20Human%20Factors%20Evaluation%20of%20Conflict%20Resolution%20Aid%20and%20Tactile%20User%20Interface%20in%20Future%20Air%20Traffic%20Control%20Systems.pdf\n",
      "====================9====================\n",
      "An electroencephalogram (EEG) potential similar to the ERN but elicited in conflict tasks by  correct responses is the N2 [ 11–13 ], a negative ERP potential with a peak between 250 and\n",
      "https://journals.lww.com/neuroreport/fulltext/2007/05280/inhibition_of_wrong_responses_and_conflict.14.aspx\n",
      "https://www.academia.edu/download/48091339/Inhibition_of_wrong_responses_and_confli20160816-576-75s6be.pdf\n"
     ]
    }
   ],
   "source": [
    "for i in range(10):\n",
    "    test = next(search_query)\n",
    "    print(f\"===================={i}====================\")\n",
    "    print(test[\"bib\"][\"abstract\"])\n",
    "    print(test[\"pub_url\"])\n",
    "    try:\n",
    "        print(test[\"eprint_url\"])\n",
    "    except:\n",
    "        print(\"No eprint_url\")"
   ]
  },
  {
   "cell_type": "code",
   "execution_count": 28,
   "metadata": {},
   "outputs": [
    {
     "name": "stdout",
     "output_type": "stream",
     "text": [
      "b\"{'author_id': ['2F522iUAAAAJ', '', 'hqwQyRsAAAAJ', ''],\\n 'bib': {'abstract': 'measured the effect of a conflict in combination with '\\n                     'extended  Male rats were subjected to  a 1-h social '\\n                     'conflict followed by 5  consisting of a social conflict '\\n                     'followed by gentle handling, as',\\n         'author': ['P Meerlo', 'EA de Bruin', 'AM Strijkstra', 'S Daan'],\\n         'pub_year': '2001',\\n         'title': 'A social conflict increases EEG slow-wave activity during '\\n                  'subsequent sleep',\\n         'venue': 'Physiology & behavior'},\\n 'citedby_url': '/scholar?cites=336417141359410019&as_sdt=5,33&sciodt=0,33&hl=en',\\n 'eprint_url': 'https://www.researchgate.net/profile/Peter-Meerlo/publication/11903429_A_social_conflict_increases_EEG_slow-wave_activity_during_subsequent_sleep/links/59f443a4a6fdcc075ec36647/A-social-conflict-increases-EEG-slow-wave-activity-during-subsequent-sleep.pdf',\\n 'filled': False,\\n 'gsrank': 1,\\n 'num_citations': 124,\\n 'pub_url': 'https://www.sciencedirect.com/science/article/pii/S0031938401004516',\\n 'source': 'PUBLICATION_SEARCH_SNIPPET',\\n 'url_add_sclib': '/citations?hl=en&xsrf=&continue=/scholar%3Fq%3D%2522conflict%2522%2BAND%2BEEG%26hl%3Den%26as_sdt%3D0,33&citilm=1&update_op=library_add&info=Y3sUj5sxqwQJ&ei=AyBfZo6hAZeM6rQPp6StyAE&json=',\\n 'url_related_articles': '/scholar?q=related:Y3sUj5sxqwQJ:scholar.google.com/&scioq=%22conflict%22+AND+EEG&hl=en&as_sdt=0,33',\\n 'url_scholarbib': '/scholar?hl=en&q=info:Y3sUj5sxqwQJ:scholar.google.com/&output=cite&scirp=0&hl=en'}\"\n"
     ]
    }
   ],
   "source": [
    "# scholarly.pprint(next(search_query))\n",
    "scholarly.pprint(next(search_query))"
   ]
  },
  {
   "cell_type": "code",
   "execution_count": 39,
   "metadata": {},
   "outputs": [
    {
     "data": {
      "text/plain": [
       "{'container_type': 'Publication',\n",
       " 'source': <PublicationSource.PUBLICATION_SEARCH_SNIPPET: 'PUBLICATION_SEARCH_SNIPPET'>,\n",
       " 'bib': {'title': 'Prepare for conflict: EEG correlates of the anticipation of target competition during overt and covert shifts of visual attention',\n",
       "  'author': ['SP Kelly', 'JJ Foxe', 'G Newman'],\n",
       "  'pub_year': '2010',\n",
       "  'venue': 'European Journal of …',\n",
       "  'abstract': 'Here we examine preparatory processes in the electroencephalogram of human participants  during four blocked versions of a spatial cueing task, requiring either covert detection or'},\n",
       " 'filled': False,\n",
       " 'gsrank': 10,\n",
       " 'pub_url': 'https://onlinelibrary.wiley.com/doi/abs/10.1111/j.1460-9568.2010.07219.x',\n",
       " 'author_id': ['lqQIzDcAAAAJ', 'fMfq07IAAAAJ', ''],\n",
       " 'url_scholarbib': '/scholar?hl=en&q=info:h7f_Aa-6nTYJ:scholar.google.com/&output=cite&scirp=9&hl=en',\n",
       " 'url_add_sclib': '/citations?hl=en&xsrf=&continue=/scholar%3Fq%3D%2522conflict%2522%2BAND%2BEEG%26hl%3Den%26as_sdt%3D0,33&citilm=1&update_op=library_add&info=h7f_Aa-6nTYJ&ei=xStfZtuVLZeM6rQPp6StyAE&json=',\n",
       " 'num_citations': 35,\n",
       " 'citedby_url': '/scholar?cites=3935506910207260551&as_sdt=5,33&sciodt=0,33&hl=en',\n",
       " 'url_related_articles': '/scholar?q=related:h7f_Aa-6nTYJ:scholar.google.com/&scioq=%22conflict%22+AND+EEG&hl=en&as_sdt=0,33',\n",
       " 'eprint_url': 'https://drive.google.com/file/d/1ugi45ikcv8lxdNt6gREXqvFMAMUPvvut/view'}"
      ]
     },
     "execution_count": 39,
     "metadata": {},
     "output_type": "execute_result"
    }
   ],
   "source": [
    "test[]"
   ]
  },
  {
   "cell_type": "markdown",
   "metadata": {},
   "source": [
    "### Document loader test"
   ]
  },
  {
   "cell_type": "code",
   "execution_count": 1,
   "metadata": {},
   "outputs": [
    {
     "name": "stdout",
     "output_type": "stream",
     "text": [
      "Processed 10 pdf files\n"
     ]
    }
   ],
   "source": [
    "from langchain.document_loaders.pdf import PyPDFDirectoryLoader\n",
    "from langchain.text_splitter import RecursiveCharacterTextSplitter\n",
    "\n",
    "DATA_PATH = \"/mnt/c/Users/beene/Downloads\"\n",
    "\n",
    "loader = PyPDFDirectoryLoader(DATA_PATH)\n",
    "documents = loader.load()\n",
    "print(f\"Processed {len(documents)} pdf files\")\n",
    "text_splitter = RecursiveCharacterTextSplitter(chunk_size=1000, chunk_overlap=50)\n",
    "texts=text_splitter.split_documents(documents)"
   ]
  },
  {
   "cell_type": "code",
   "execution_count": 11,
   "metadata": {},
   "outputs": [
    {
     "data": {
      "text/plain": [
       "['Config',\n",
       " '__abstractmethods__',\n",
       " '__annotations__',\n",
       " '__class__',\n",
       " '__class_vars__',\n",
       " '__config__',\n",
       " '__custom_root_type__',\n",
       " '__delattr__',\n",
       " '__dict__',\n",
       " '__dir__',\n",
       " '__doc__',\n",
       " '__eq__',\n",
       " '__exclude_fields__',\n",
       " '__fields__',\n",
       " '__fields_set__',\n",
       " '__format__',\n",
       " '__ge__',\n",
       " '__get_validators__',\n",
       " '__getattribute__',\n",
       " '__getstate__',\n",
       " '__gt__',\n",
       " '__hash__',\n",
       " '__include_fields__',\n",
       " '__init__',\n",
       " '__init_subclass__',\n",
       " '__iter__',\n",
       " '__json_encoder__',\n",
       " '__le__',\n",
       " '__lt__',\n",
       " '__module__',\n",
       " '__ne__',\n",
       " '__new__',\n",
       " '__post_root_validators__',\n",
       " '__pre_root_validators__',\n",
       " '__pretty__',\n",
       " '__private_attributes__',\n",
       " '__reduce__',\n",
       " '__reduce_ex__',\n",
       " '__repr__',\n",
       " '__repr_args__',\n",
       " '__repr_name__',\n",
       " '__repr_str__',\n",
       " '__rich_repr__',\n",
       " '__schema_cache__',\n",
       " '__setattr__',\n",
       " '__setstate__',\n",
       " '__signature__',\n",
       " '__sizeof__',\n",
       " '__slots__',\n",
       " '__str__',\n",
       " '__subclasshook__',\n",
       " '__try_update_forward_refs__',\n",
       " '__validators__',\n",
       " '_abc_impl',\n",
       " '_calculate_keys',\n",
       " '_copy_and_set_values',\n",
       " '_decompose_class',\n",
       " '_enforce_dict_if_root',\n",
       " '_get_value',\n",
       " '_init_private_attributes',\n",
       " '_iter',\n",
       " '_lc_kwargs',\n",
       " 'construct',\n",
       " 'copy',\n",
       " 'dict',\n",
       " 'from_orm',\n",
       " 'get_lc_namespace',\n",
       " 'is_lc_serializable',\n",
       " 'json',\n",
       " 'lc_attributes',\n",
       " 'lc_id',\n",
       " 'lc_secrets',\n",
       " 'metadata',\n",
       " 'page_content',\n",
       " 'parse_file',\n",
       " 'parse_obj',\n",
       " 'parse_raw',\n",
       " 'schema',\n",
       " 'schema_json',\n",
       " 'to_json',\n",
       " 'to_json_not_implemented',\n",
       " 'type',\n",
       " 'update_forward_refs',\n",
       " 'validate']"
      ]
     },
     "execution_count": 11,
     "metadata": {},
     "output_type": "execute_result"
    }
   ],
   "source": [
    "dir(documents[0])"
   ]
  }
 ],
 "metadata": {
  "kernelspec": {
   "display_name": "llm-agent-Xw65Epl3-py3.10",
   "language": "python",
   "name": "python3"
  },
  "language_info": {
   "codemirror_mode": {
    "name": "ipython",
    "version": 3
   },
   "file_extension": ".py",
   "mimetype": "text/x-python",
   "name": "python",
   "nbconvert_exporter": "python",
   "pygments_lexer": "ipython3",
   "version": "3.10.12"
  }
 },
 "nbformat": 4,
 "nbformat_minor": 2
}
