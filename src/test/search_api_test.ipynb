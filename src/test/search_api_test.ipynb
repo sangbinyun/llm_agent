{
 "cells": [
  {
   "cell_type": "code",
   "execution_count": 2,
   "metadata": {},
   "outputs": [],
   "source": [
    "import os\n",
    "import dotenv\n",
    "from scholarly import scholarly\n",
    "from langchain_community.tools.google_scholar import GoogleScholarQueryRun\n",
    "from langchain_community.utilities.google_scholar import GoogleScholarAPIWrapper"
   ]
  },
  {
   "cell_type": "code",
   "execution_count": 6,
   "metadata": {},
   "outputs": [
    {
     "data": {
      "text/plain": [
       "'Title: The hippocampus and behavior.\\nAuthors: \\nSummary: RJ Douglas - Psychological bulletin, 1967 - psycnet.apa.org\\nTotal-Citations: 1591\\n\\nTitle: What does the hippocampus really do?\\nAuthors: \\nSummary: LE Jarrard - Behavioural brain research, 1995 - Elsevier\\nTotal-Citations: 345\\n\\nTitle: The hippocampus book\\nAuthors: \\nSummary: P Andersen - 2007 - books.google.com\\nTotal-Citations: 1892\\n\\nTitle: The hippocampus\\nAuthors: JJ Knierim\\nSummary: JJ Knierim - Current Biology, 2015 - cell.com\\nTotal-Citations: 524\\n\\nTitle: Hormones and the hippocampus\\nAuthors: R Lathe\\nSummary: R Lathe - Journal of Endocrinology, 2001 - researchgate.net\\nTotal-Citations: 381\\n\\nTitle: Hippocampus, space, and memory\\nAuthors: JT Becker\\nSummary: DS Olton, JT Becker, GE Handelmann - Behavioral and Brain …, 1979 - cambridge.org\\nTotal-Citations: 2486\\n\\nTitle: Hippocampus\\nAuthors: \\nSummary: M Witter - The mouse nervous system, 2012 - Elsevier\\nTotal-Citations: 62\\n\\nTitle: Hippocampus, time, and memory.\\nAuthors: WH Meck\\nSummary: WH Meck, RM Church, DS Olton - Behavioral neuroscience, 1984 - psycnet.apa.org\\nTotal-Citations: 581\\n\\nTitle: The role of the hippocampus in prediction and imagination\\nAuthors: RL Buckner\\nSummary: RL Buckner - Annual review of psychology, 2010 - annualreviews.org\\nTotal-Citations: 458\\n\\nTitle: Laminating the hippocampus\\nAuthors: \\nSummary: E Förster, S Zhao, M Frotscher - Nature reviews neuroscience, 2006 - nature.com\\nTotal-Citations: 310'"
      ]
     },
     "execution_count": 6,
     "metadata": {},
     "output_type": "execute_result"
    }
   ],
   "source": [
    "# serp api\n",
    "dotenv_file = dotenv.find_dotenv(\"/home/sangbin_yun/dev/llm_agent/.env\")\n",
    "dotenv.load_dotenv(dotenv_file)\n",
    "# os.environ[\"SERP_API_KEY\"]\n",
    "tool = GoogleScholarQueryRun(api_wrapper=GoogleScholarAPIWrapper())\n",
    "tool.run(\"hippocampus\")"
   ]
  },
  {
   "cell_type": "code",
   "execution_count": 9,
   "metadata": {},
   "outputs": [],
   "source": [
    "search_query = scholarly.search_pubs('\"conflict\" AND EEG')"
   ]
  },
  {
   "cell_type": "code",
   "execution_count": 10,
   "metadata": {},
   "outputs": [
    {
     "data": {
      "text/plain": [
       "599000"
      ]
     },
     "execution_count": 10,
     "metadata": {},
     "output_type": "execute_result"
    }
   ],
   "source": [
    "search_query.total_results"
   ]
  },
  {
   "cell_type": "code",
   "execution_count": 12,
   "metadata": {},
   "outputs": [
    {
     "name": "stdout",
     "output_type": "stream",
     "text": [
      "b\"{'author_id': ['OcKWjEwAAAAJ', 'PDZYdSkAAAAJ'],\\n 'bib': {'abstract': 'would also be modulated by conflict. We applied linear  '\\n                     'EEG response conflict tasks, we  also replicated '\\n                     'conflict effects previously observed at the scalp-level '\\n                     '(eg, midfrontal theta conflict',\\n         'author': ['MX Cohen', 'KR Ridderinkhof'],\\n         'pub_year': '2013',\\n         'title': 'EEG source reconstruction reveals frontal-parietal dynamics '\\n                  'of spatial conflict processing',\\n         'venue': 'PloS one'},\\n 'citedby_url': '/scholar?cites=13463466639366865087&as_sdt=5,33&sciodt=0,33&hl=en',\\n 'eprint_url': 'https://journals.plos.org/plosone/article?id=10.1371/journal.pone.0057293',\\n 'filled': False,\\n 'gsrank': 2,\\n 'num_citations': 137,\\n 'pub_url': 'https://journals.plos.org/plosone/article?id=10.1371/journal.pone.0057293',\\n 'source': 'PUBLICATION_SEARCH_SNIPPET',\\n 'url_add_sclib': '/citations?hl=en&xsrf=&continue=/scholar%3Fq%3D%2522conflict%2522%2BAND%2BEEG%26hl%3Den%26as_sdt%3D0,33&citilm=1&update_op=library_add&info=v8DIdJPX17oJ&ei=z3ZcZoeVMuvJy9YP4frI-Qg&json=',\\n 'url_related_articles': '/scholar?q=related:v8DIdJPX17oJ:scholar.google.com/&scioq=%22conflict%22+AND+EEG&hl=en&as_sdt=0,33',\\n 'url_scholarbib': '/scholar?hl=en&q=info:v8DIdJPX17oJ:scholar.google.com/&output=cite&scirp=1&hl=en'}\"\n"
     ]
    }
   ],
   "source": [
    "scholarly.pprint(next(search_query))"
   ]
  }
 ],
 "metadata": {
  "kernelspec": {
   "display_name": "llm-agent-Xw65Epl3-py3.10",
   "language": "python",
   "name": "python3"
  },
  "language_info": {
   "codemirror_mode": {
    "name": "ipython",
    "version": 3
   },
   "file_extension": ".py",
   "mimetype": "text/x-python",
   "name": "python",
   "nbconvert_exporter": "python",
   "pygments_lexer": "ipython3",
   "version": "3.10.12"
  }
 },
 "nbformat": 4,
 "nbformat_minor": 2
}
