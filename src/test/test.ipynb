{
 "cells": [
  {
   "cell_type": "code",
   "execution_count": 3,
   "metadata": {},
   "outputs": [],
   "source": [
    "import os\n",
    "import dotenv\n",
    "from langchain_community.tools.google_scholar import GoogleScholarQueryRun\n",
    "from langchain_community.utilities.google_scholar import GoogleScholarAPIWrapper"
   ]
  },
  {
   "cell_type": "code",
   "execution_count": 6,
   "metadata": {},
   "outputs": [
    {
     "data": {
      "text/plain": [
       "'Title: The hippocampus and behavior.\\nAuthors: \\nSummary: RJ Douglas - Psychological bulletin, 1967 - psycnet.apa.org\\nTotal-Citations: 1591\\n\\nTitle: What does the hippocampus really do?\\nAuthors: \\nSummary: LE Jarrard - Behavioural brain research, 1995 - Elsevier\\nTotal-Citations: 345\\n\\nTitle: The hippocampus book\\nAuthors: \\nSummary: P Andersen - 2007 - books.google.com\\nTotal-Citations: 1892\\n\\nTitle: The hippocampus\\nAuthors: JJ Knierim\\nSummary: JJ Knierim - Current Biology, 2015 - cell.com\\nTotal-Citations: 524\\n\\nTitle: Hormones and the hippocampus\\nAuthors: R Lathe\\nSummary: R Lathe - Journal of Endocrinology, 2001 - researchgate.net\\nTotal-Citations: 381\\n\\nTitle: Hippocampus, space, and memory\\nAuthors: JT Becker\\nSummary: DS Olton, JT Becker, GE Handelmann - Behavioral and Brain …, 1979 - cambridge.org\\nTotal-Citations: 2486\\n\\nTitle: Hippocampus\\nAuthors: \\nSummary: M Witter - The mouse nervous system, 2012 - Elsevier\\nTotal-Citations: 62\\n\\nTitle: Hippocampus, time, and memory.\\nAuthors: WH Meck\\nSummary: WH Meck, RM Church, DS Olton - Behavioral neuroscience, 1984 - psycnet.apa.org\\nTotal-Citations: 581\\n\\nTitle: The role of the hippocampus in prediction and imagination\\nAuthors: RL Buckner\\nSummary: RL Buckner - Annual review of psychology, 2010 - annualreviews.org\\nTotal-Citations: 458\\n\\nTitle: Laminating the hippocampus\\nAuthors: \\nSummary: E Förster, S Zhao, M Frotscher - Nature reviews neuroscience, 2006 - nature.com\\nTotal-Citations: 310'"
      ]
     },
     "execution_count": 6,
     "metadata": {},
     "output_type": "execute_result"
    }
   ],
   "source": [
    "dotenv_file = dotenv.find_dotenv(\"/home/sangbin_yun/dev/llm_agent/.env\")\n",
    "dotenv.load_dotenv(dotenv_file)\n",
    "# os.environ[\"SERP_API_KEY\"]\n",
    "tool = GoogleScholarQueryRun(api_wrapper=GoogleScholarAPIWrapper())\n",
    "tool.run(\"hippocampus\")"
   ]
  }
 ],
 "metadata": {
  "kernelspec": {
   "display_name": "llm-agent-Xw65Epl3-py3.10",
   "language": "python",
   "name": "python3"
  },
  "language_info": {
   "codemirror_mode": {
    "name": "ipython",
    "version": 3
   },
   "file_extension": ".py",
   "mimetype": "text/x-python",
   "name": "python",
   "nbconvert_exporter": "python",
   "pygments_lexer": "ipython3",
   "version": "3.10.12"
  }
 },
 "nbformat": 4,
 "nbformat_minor": 2
}
